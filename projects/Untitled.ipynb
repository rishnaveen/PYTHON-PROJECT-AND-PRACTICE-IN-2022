{
 "cells": [
  {
   "cell_type": "code",
   "execution_count": 13,
   "id": "7ec8bac5",
   "metadata": {},
   "outputs": [],
   "source": [
    "from tabula import read_pdf"
   ]
  },
  {
   "cell_type": "code",
   "execution_count": 14,
   "id": "e1face75",
   "metadata": {},
   "outputs": [
    {
     "name": "stderr",
     "output_type": "stream",
     "text": [
      "Got stderr: Feb 08, 2022 8:26:33 PM org.apache.pdfbox.pdmodel.font.FileSystemFontProvider loadDiskCache\r\n",
      "WARNING: New fonts found, font cache will be re-built\r\n",
      "Feb 08, 2022 8:26:33 PM org.apache.pdfbox.pdmodel.font.FileSystemFontProvider <init>\r\n",
      "WARNING: Building on-disk font cache, this may take a while\r\n",
      "Feb 08, 2022 8:26:34 PM org.apache.pdfbox.pdmodel.font.FileSystemFontProvider <init>\r\n",
      "WARNING: Finished building on-disk font cache, found 369 fonts\r\n",
      "\n"
     ]
    }
   ],
   "source": [
    "data = read_pdf(\"C:\\\\Users\\\\Win\\\\Desktop\\\\architects1.pdf\" , pages=\"all\")"
   ]
  },
  {
   "cell_type": "code",
   "execution_count": 15,
   "id": "67ae6962",
   "metadata": {},
   "outputs": [
    {
     "data": {
      "text/plain": [
       "[   S.No                                 List of Architects         State  \\\n",
       " 0   1.0  Ms. Neha Srivastava\\r353, Sector – 37\\rArun Vi...          U.P.   \n",
       " 1   2.0  M/s. Aggarwal & Aggarwal\\r96, Beltala Road\\rKo...  West\\rBengal   \n",
       " 2   3.0  Shri. Samir Rastogi\\rSpace Ace Planners\\rArchi...     New Delhi   \n",
       " 3   4.0  The Energy & Resource Institute\\r(TERI)\\rDarba...     New Delhi   \n",
       " 4   5.0  Shri. Pankaj Jain\\rJain And Associates\\rS13/21...       Haryana   \n",
       " 5   6.0  Shri. Ajay Behl\\rM/s. Civil Consultants\\rA-2 &...           U.P   \n",
       " 6   7.0  Ms. Alpana Jain\\rKalpakrit–Sustainabilityby\\rD...       Haryana   \n",
       " 7   8.0  Shri. Sanjay Prakash\\rArchitects, Engineers & ...     New Delhi   \n",
       " 8   9.0  Shri. Ashok B. Lal\\r2 B, Ram Kishore Road\\rCiv...     New Delhi   \n",
       " \n",
       "                                      Contact Details  \n",
       " 0  Tel: 95120-5321278\\r9818290708\\rEmail: info@st...  \n",
       " 1      Tel: 033-24740570-73\\rEmail: jpamnl@gmail.com  \n",
       " 2  Tel: 27457241\\r23857061, 23857824\\rFax: 238590...  \n",
       " 3  Tel: 24682100/ 41504900 extn.2139\\r\\rEmail: mi...  \n",
       " 4             Tel: 95124-4065318\\rFax: 95124-2352829  \n",
       " 5  Tel : 0522-2209241\\rEmail : civilconsultants@y...  \n",
       " 6       Tel: 9958170019\\rEmail: Alpana@kalpakrit.com  \n",
       " 7  Tel: 41655696/\\rMobile: 9910441016\\rFax: 41655...  \n",
       " 8  Tel : 23922108\\rFax : 23918936\\rEmail: ablarch...  ,\n",
       "             10.  Shri. Karan Grover  Unnamed: 0  Unnamed: 1  \\\n",
       " 0         Karan Grover & Associates         NaN         NaN   \n",
       " 1                       Architects,         NaN         NaN   \n",
       " 2     Planners & Interior Designers         NaN     Gujarat   \n",
       " 3   Kirti Tower,Tilak Road Vadodara         NaN         NaN   \n",
       " 4          11.  Shri.Siddhartha Wig         NaN         NaN   \n",
       " 5                      The Elements         NaN         NaN   \n",
       " 6             SCF 59 FF Sector – 6,         NaN         NaN   \n",
       " 7        Panchkula 134 109, Haryana         NaN     Haryana   \n",
       " 8        12.  Shri. Tanmay Tathagat         NaN   New Delhi   \n",
       " 9     Environmental Design Solution         NaN         NaN   \n",
       " 10            657 A/C, Vasant Kunj,         NaN         NaN   \n",
       " 11               New Delhi : 110070         NaN         NaN   \n",
       " 12            13.  Ms. Jolly Barooh         NaN         NaN   \n",
       " 13    M/s. Jolly Barooah Associates         NaN         NaN   \n",
       " 14          2A 36, Princeton Estate         NaN         NaN   \n",
       " 15                      DLF Phase 5         NaN         NaN   \n",
       " 16           Gurgaon 122002 Haryana         NaN         NaN   \n",
       " 17          14.  Shri. Uday B Kapre         NaN   New Delhi   \n",
       " 18        Mathur & Kapre Associates         NaN         NaN   \n",
       " 19                         Pvt Ltd.         NaN         NaN   \n",
       " 20          C-9 / 9549 Vasant Kunj,         NaN         NaN   \n",
       " 21                 New Delhi 110070         NaN         NaN   \n",
       " 22                              NaN         NaN         NaN   \n",
       " 23          15.  Mr Sanjay  Udamale         NaN      Mumbai   \n",
       " 24        Sanjay Udamale Architects         NaN         NaN   \n",
       " 25           M-7, Bhavani Chambers,         NaN         NaN   \n",
       " 26                Opp DAGDI School,         NaN         NaN   \n",
       " 27                Charai,Talaopali,         NaN         NaN   \n",
       " 28            Thane (Mumbai) 400601         NaN         NaN   \n",
       " 29           16. 0Mr Surinder Bagha         NaN  Chandigarh   \n",
       " 30              2Saakaar Foundation         NaN         NaN   \n",
       " 31   2 rdSCO 53-55 , 3  Floor, Near         NaN         NaN   \n",
       " 32                           - GPO,         NaN         NaN   \n",
       " 33                      Sector 17-D         NaN         NaN   \n",
       " 34                Chandigarh 160017         NaN         NaN   \n",
       " 35               17.  Ms. Tara Dhal         NaN   Bhubanesh   \n",
       " 36                 The Design Group         NaN         war   \n",
       " 37         Plot no. 35, Surya Nagar         NaN         NaN   \n",
       " 38             Bhubaneshawar 751003         NaN         NaN   \n",
       " 39                              NaN         NaN         NaN   \n",
       " 40           18.  Shri. Vicky Rawat         NaN    Debradun   \n",
       " 41                  Space I  Design         NaN         NaN   \n",
       " 42         285 Vasant Vihar Phase I         NaN         NaN   \n",
       " 43                  Dehradun 248006         NaN         NaN   \n",
       " 44                              NaN         NaN         NaN   \n",
       " 45                   Delhi office :         NaN         NaN   \n",
       " 46         Hemant Chawla Associates         NaN         NaN   \n",
       " \n",
       "            Tel: 0265-2427522/ 7544  \n",
       " 0                Fax: 0265-2427599  \n",
       " 1    Email: kgaarchitects@vsnl.net  \n",
       " 2                              NaN  \n",
       " 3                              NaN  \n",
       " 4                Tel: 0172-3255770  \n",
       " 5            Telefax: 0172-2580094  \n",
       " 6          Email: wigmann@sify.com  \n",
       " 7                              NaN  \n",
       " 8                    Tel: 46065081  \n",
       " 9                    Fax: 26123812  \n",
       " 10        Email: tanmayt@gmail.com  \n",
       " 11             Mobile : 9891062009  \n",
       " 12                Tel : 9811284723  \n",
       " 13  Email : jollybarooah@yahoo.com  \n",
       " 14                             NaN  \n",
       " 15                             NaN  \n",
       " 16                             NaN  \n",
       " 17        Tel : 26132076/ 26894055  \n",
       " 18       Fax : 26132076 / 26894055  \n",
       " 19          mnk@airtelbroadband.in  \n",
       " 20         mandk@mnkconsulting.com  \n",
       " 21                             NaN  \n",
       " 22                             NaN  \n",
       " 23              Tel :022- 25346197  \n",
       " 24              Fax : 022 25346197  \n",
       " 25         Sanjay_udamale@vsnl.net  \n",
       " 26                             NaN  \n",
       " 27                             NaN  \n",
       " 28                             NaN  \n",
       " 29     Tel : 0172-2722466/ 3043466  \n",
       " 30               Fax: 0172-2721145  \n",
       " 31   saakaarfoundation@yahoo.co.in  \n",
       " 32                             NaN  \n",
       " 33                             NaN  \n",
       " 34                             NaN  \n",
       " 35     Tel : 0674-2397386/ 2397318  \n",
       " 36               Fax: 067-42397318  \n",
       " 37              taradhal@yahoo.com  \n",
       " 38                             NaN  \n",
       " 39                             NaN  \n",
       " 40              Tel : 0135-2762276  \n",
       " 41   Fax no. 0135-2762276, 2760672  \n",
       " 42               rawvick@gmail.com  \n",
       " 43                             NaN  \n",
       " 44                             NaN  \n",
       " 45                 Tel: 9811154460  \n",
       " 46        Email: hemant6@gmail.com  ,\n",
       "    Unnamed: 0 C-117 Naraina Indl.Area\\rPhase I,\\rNew Delhi 110028 Unnamed: 1  \\\n",
       " 0        19.0  Mr Prashanth Chunduri\\rAVP – Marketing\\rNeilso...        Pune   \n",
       " 1        20.0  Mr Samir Mathur\\rM/s Integral Designs\\rE-90 An...   New Delhi   \n",
       " 2        21.0  Mr Rishabh Kasliwal,P.E.,\\rLEED A.P\\rManaging ...      Jaipur   \n",
       " 3        22.0  Shri. Juzer S Kothari\\rM/s Conserve Consultant...     Chennai   \n",
       " 4        23.0  Mr B.R Ajit\\rAjit Associates\\rrd3\\rFloor, Puth...      Cochin   \n",
       " 5        24.0  Ms. Vandana Garg\\rVandana Garg Architects &\\rC...   New Delhi   \n",
       " 6        25.0  Shri. Rahul Agarwal\\rSanidhya Design Consultan...      Jaipur   \n",
       " \n",
       "                                           Unnamed: 2  \n",
       " 0  Tel: 020-26053003\\rFax no: 20 26131755\\rEmail ...  \n",
       " 1  Tel : 24112391/ 92\\rFax no: 46016239\\rIntegral...  \n",
       " 2  Tel : 0141- 4099621-23\\rFax :01412373180\\rrish...  \n",
       " 3  Tel : (044) 24450655/ 45504313\\rjuzer@conserve...  \n",
       " 4  Tel : 0484-4072000  to 4072099\\rFax : 91-484-4...  \n",
       " 5  Tel:9310010460\\rFax : 011 46082355\\rVandanagar...  \n",
       " 6  Tel : 0141- 2520352/ 3270181\\rFax: 91-141-2520...  ,\n",
       "    Unnamed: 0  \\\n",
       " 0        26.0   \n",
       " 1        27.0   \n",
       " 2        28.0   \n",
       " 3        29.0   \n",
       " 4        30.0   \n",
       " 5        31.0   \n",
       " 6        32.0   \n",
       " \n",
       "   A-660, IInd Floor, Kiran\\rPrakash,\\rOpp. Rungta Hospital,\\rMalviya Nagar\\rJaipur 302017  \\\n",
       " 0  Shri. Balbir Singh Khera\\rMaxVal Technologies ...                                        \n",
       " 1  Shri. Amit Ghosal\\rLivin Systems Consultants P...                                        \n",
       " 2  Ms. Sangeeta Maithel\\rMaithel & Associates Arc...                                        \n",
       " 3  Shri. Deepak Kumar C\\rSpace Matrix Design\\rCon...                                        \n",
       " 4  Shri. Atul Gupta\\rAtul Gupta Architect\\rH-131,...                                        \n",
       " 5  Shri. C. N. Raghavendra\\rM/s C R Narayana Rao\\...                                        \n",
       " 6                                 Shri. Vijay Sathye                                        \n",
       " \n",
       "   Unnamed: 1                              star_rauhul@yahoo.com  \n",
       " 0     Mumbai  Tel: 022-67939388/ 89\\rFax: 022-67939390\\rbalb...  \n",
       " 1  New Delhi  Tel :011- 26274672\\rFax: 011-26273098\\rlivin@a...  \n",
       " 2     Jaipur  Tel : 0141- 2741664, 2741232\\rFax: 91-141-2741...  \n",
       " 3  Bangalore  Tel :080-40494000\\rFax: 91-80-40494299\\rdeepak...  \n",
       " 4      Noida  Tel : 95120- 2400345\\rFax :\\r\\rarchitectatul@g...  \n",
       " 5    Chennai  Tel : 044- 24991676\\rcrn@crn.co.in,\\rFax: 91-4...  \n",
       " 6     Mumbai                          Tel: 022- 27831070/ 72/61  ,\n",
       "    Unnamed: 0  \\\n",
       " 0        33.0   \n",
       " 1        34.0   \n",
       " 2        35.0   \n",
       " 3        36.0   \n",
       " 4        37.0   \n",
       " \n",
       "   S.N Bhobe & Associates Pvt Ltd\\rBanking Complex No II,\\rUnit no 10, Plot no 9/10,\\rSector 19 A, Vashi,\\rNavi Mumbai 400705\\r\\rCONTACT PERSON –\\rMR.LATKAR\\rReg.Officer – PUNE  \\\n",
       " 0  Shri. Binesh Sukumar\\rBinesh Sukumar Architect...                                                                                                                              \n",
       " 1  Shri. Dharmesh Rathod\\rRite Matrix Architects ...                                                                                                                              \n",
       " 2  Shri. Nilesh Mahajan\\rTechnopak Advisors Pvt L...                                                                                                                              \n",
       " 3  Shri. S.C.Thukral\\rManaging Partner\\rM/s. Gemi...                                                                                                                              \n",
       " 4  Shri. Vivek Bhole\\rVivek Bhole Architects\\rC -...                                                                                                                              \n",
       " \n",
       "   Unnamed: 1  \\\n",
       " 0      Kochi   \n",
       " 1     Mumbai   \n",
       " 2      Thane   \n",
       " 3      Jammu   \n",
       " 4     Mumbai   \n",
       " \n",
       "   Fax 91-22-27831173\\rEmail: entedamo@vsnl.com\\rsnbapl@yahoo.com\\r\\r\\r\\rCell: 09765491873\\rEmail: snbaplonline@yahoo.com  \n",
       " 0  Tel : 0484-2537668, 2538445/\\r09847322048\\rFax...                                                                      \n",
       " 1  Tel :022- 28695274/ 32522539/\\r09870672649/ 50...                                                                      \n",
       " 2  Tel : 022- 25832222\\rFax: 91-22-25838408\\rEmai...                                                                      \n",
       " 3  Tel: 0191-2560043\\rFax : 0191- 2560043\\rEmail:...                                                                      \n",
       " 4  Tel: 022- 28902248\\rFax : 022-28912522\\rEmail:...                                                                      ]"
      ]
     },
     "execution_count": 15,
     "metadata": {},
     "output_type": "execute_result"
    }
   ],
   "source": [
    "data"
   ]
  },
  {
   "cell_type": "code",
   "execution_count": 17,
   "id": "4e565cac",
   "metadata": {},
   "outputs": [],
   "source": [
    "import pandas as pd\n",
    "import numpy as np"
   ]
  },
  {
   "cell_type": "code",
   "execution_count": 18,
   "id": "96bdbd98",
   "metadata": {},
   "outputs": [
    {
     "name": "stderr",
     "output_type": "stream",
     "text": [
      "java version \"1.8.0_321\"\n",
      "Java(TM) SE Runtime Environment (build 1.8.0_321-b07)\n",
      "Java HotSpot(TM) 64-Bit Server VM (build 25.321-b07, mixed mode)\n"
     ]
    }
   ],
   "source": [
    "! java -version"
   ]
  },
  {
   "cell_type": "code",
   "execution_count": 20,
   "id": "6ff56af3",
   "metadata": {},
   "outputs": [
    {
     "ename": "AttributeError",
     "evalue": "'list' object has no attribute 'shape'",
     "output_type": "error",
     "traceback": [
      "\u001b[1;31m---------------------------------------------------------------------------\u001b[0m",
      "\u001b[1;31mAttributeError\u001b[0m                            Traceback (most recent call last)",
      "\u001b[1;32m~\\AppData\\Local\\Temp/ipykernel_32564/3993293784.py\u001b[0m in \u001b[0;36m<module>\u001b[1;34m\u001b[0m\n\u001b[1;32m----> 1\u001b[1;33m \u001b[0mdata\u001b[0m\u001b[1;33m.\u001b[0m\u001b[0mshape\u001b[0m\u001b[1;33m\u001b[0m\u001b[1;33m\u001b[0m\u001b[0m\n\u001b[0m",
      "\u001b[1;31mAttributeError\u001b[0m: 'list' object has no attribute 'shape'"
     ]
    }
   ],
   "source": [
    "data.shape"
   ]
  },
  {
   "cell_type": "code",
   "execution_count": null,
   "id": "f471b4dd",
   "metadata": {},
   "outputs": [],
   "source": []
  }
 ],
 "metadata": {
  "kernelspec": {
   "display_name": "Python 3 (ipykernel)",
   "language": "python",
   "name": "python3"
  },
  "language_info": {
   "codemirror_mode": {
    "name": "ipython",
    "version": 3
   },
   "file_extension": ".py",
   "mimetype": "text/x-python",
   "name": "python",
   "nbconvert_exporter": "python",
   "pygments_lexer": "ipython3",
   "version": "3.10.1"
  }
 },
 "nbformat": 4,
 "nbformat_minor": 5
}
